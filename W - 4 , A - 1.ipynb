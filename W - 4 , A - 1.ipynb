{
 "cells": [
  {
   "cell_type": "markdown",
   "id": "e5d683bf-e957-4e13-b8d6-a45dc9b2892f",
   "metadata": {},
   "source": [
    "### A1)"
   ]
  },
  {
   "cell_type": "raw",
   "id": "b292f520-4ed4-4f33-a46a-0dc2aacbddb3",
   "metadata": {},
   "source": [
    "Class is the blueprint of an object.\n",
    "An object is an instance of a class."
   ]
  },
  {
   "cell_type": "code",
   "execution_count": 1,
   "id": "1e4278f7-1a6f-48c2-bbfc-7aaa0719f555",
   "metadata": {},
   "outputs": [],
   "source": [
    "class pwskills:      \n",
    "    pass"
   ]
  },
  {
   "cell_type": "code",
   "execution_count": 2,
   "id": "bb00307a-9434-4977-b9bf-0ee64211a2de",
   "metadata": {},
   "outputs": [],
   "source": [
    "pw = pwskills()        ##pw is the object of the class pwskills."
   ]
  },
  {
   "cell_type": "markdown",
   "id": "1101eb1f-5e49-4d4b-96cb-803cb9966235",
   "metadata": {},
   "source": [
    "### A2)"
   ]
  },
  {
   "cell_type": "raw",
   "id": "55294121-2b21-4251-bf7c-18d62376af24",
   "metadata": {},
   "source": [
    "The four pillars of oops are :\n",
    "1)Encapsulation\n",
    "2)Inheritance\n",
    "3)Polymorphism\n",
    "4)Abstraction"
   ]
  },
  {
   "cell_type": "markdown",
   "id": "805846a1-db5a-47af-b941-7eaec9b9ed0e",
   "metadata": {},
   "source": [
    "### A3)"
   ]
  },
  {
   "cell_type": "raw",
   "id": "59895c86-a22b-43bc-92ce-f58944791501",
   "metadata": {},
   "source": [
    "__init__() function is used to initialise variables which are directly related to the class."
   ]
  },
  {
   "cell_type": "code",
   "execution_count": 8,
   "id": "ada1d4a7-9ac1-4bcf-bb10-572d42404ea2",
   "metadata": {},
   "outputs": [],
   "source": [
    "class info:\n",
    "    def __init__(self , name , email , phn_no):\n",
    "        self.name = name\n",
    "        self.email = email\n",
    "        self.phn_no = phn_no\n",
    "    \n",
    "    def return_info(self):\n",
    "        return self.name , self.email , self.phn_no"
   ]
  },
  {
   "cell_type": "code",
   "execution_count": 9,
   "id": "eb7a3985-a17d-4a1a-b239-43eed543557c",
   "metadata": {},
   "outputs": [],
   "source": [
    "i = info(\"paree\" , \"p@gmail.com\" , 1234509876)"
   ]
  },
  {
   "cell_type": "code",
   "execution_count": 10,
   "id": "12098c94-76bc-4a8f-a821-4fa083544f77",
   "metadata": {},
   "outputs": [
    {
     "data": {
      "text/plain": [
       "('paree', 'p@gmail.com', 1234509876)"
      ]
     },
     "execution_count": 10,
     "metadata": {},
     "output_type": "execute_result"
    }
   ],
   "source": [
    "i.return_info()"
   ]
  },
  {
   "cell_type": "markdown",
   "id": "eb7a7589-3d94-4339-a872-0cd06f0a257c",
   "metadata": {},
   "source": [
    "### A4)"
   ]
  },
  {
   "cell_type": "raw",
   "id": "7ea516ad-8325-43db-a420-eb0e8ceea5c2",
   "metadata": {},
   "source": [
    "self is used as it binds all the methods in a class to the respective class."
   ]
  },
  {
   "cell_type": "markdown",
   "id": "c268cf83-e824-4fa8-bea1-a0cb80adbe4c",
   "metadata": {},
   "source": [
    "### A5)"
   ]
  },
  {
   "cell_type": "raw",
   "id": "c804e56b-b892-4a64-8ab2-7d56caeb634a",
   "metadata": {},
   "source": [
    "Inheritance is one of the pillars of oops in which there is a parent class and daughter class. The daughter\n",
    "class inherits all the features of the parent class."
   ]
  },
  {
   "cell_type": "markdown",
   "id": "7b8faae1-80ef-47ef-b82a-8cd5ed1ab31c",
   "metadata": {},
   "source": [
    "#### Multilevel Inheritance"
   ]
  },
  {
   "cell_type": "code",
   "execution_count": 12,
   "id": "fddf986f-318a-4e1c-bd9f-8f5f0099c487",
   "metadata": {},
   "outputs": [],
   "source": [
    "class test1 :\n",
    "    \n",
    "    def f1(self) :\n",
    "        return \"This is class1\""
   ]
  },
  {
   "cell_type": "code",
   "execution_count": 13,
   "id": "f80543e7-44d8-4651-ab6e-70ff6f1cc503",
   "metadata": {},
   "outputs": [],
   "source": [
    "class test2(test1) :\n",
    "    \n",
    "    def f2(self) :\n",
    "        return \"This is class2\""
   ]
  },
  {
   "cell_type": "code",
   "execution_count": 14,
   "id": "cc59c3a5-8281-472f-9562-fb5431680f73",
   "metadata": {},
   "outputs": [],
   "source": [
    "class test3(test2) :\n",
    "    pass"
   ]
  },
  {
   "cell_type": "code",
   "execution_count": 15,
   "id": "f8bc9e53-a89f-43c1-85c6-d116235a0e2b",
   "metadata": {},
   "outputs": [],
   "source": [
    "obj_test3 = test3()"
   ]
  },
  {
   "cell_type": "code",
   "execution_count": 17,
   "id": "9fe539e8-e478-4238-8cc1-ebdc53faae83",
   "metadata": {},
   "outputs": [
    {
     "data": {
      "text/plain": [
       "'This is class2'"
      ]
     },
     "execution_count": 17,
     "metadata": {},
     "output_type": "execute_result"
    }
   ],
   "source": [
    "obj_test3.f2()"
   ]
  },
  {
   "cell_type": "code",
   "execution_count": 18,
   "id": "724222d6-ec1e-427e-a765-f48f29eae4d8",
   "metadata": {},
   "outputs": [
    {
     "data": {
      "text/plain": [
       "'This is class1'"
      ]
     },
     "execution_count": 18,
     "metadata": {},
     "output_type": "execute_result"
    }
   ],
   "source": [
    "obj_test3.f1()"
   ]
  },
  {
   "cell_type": "markdown",
   "id": "892d32b9-cb57-4f52-84cd-3e4ca75e886d",
   "metadata": {},
   "source": [
    "#### Multiple Inheritance"
   ]
  },
  {
   "cell_type": "code",
   "execution_count": 19,
   "id": "3ecf5a24-da22-4686-83fc-0777ceb00d4e",
   "metadata": {},
   "outputs": [],
   "source": [
    "class test01:\n",
    "    def meth1(self):\n",
    "        print(\"This is test01\")"
   ]
  },
  {
   "cell_type": "code",
   "execution_count": 20,
   "id": "a4d54091-7862-4dfb-81c9-3c7a4aaab49e",
   "metadata": {},
   "outputs": [],
   "source": [
    "class test02:\n",
    "    def meth2(self):\n",
    "        print('This is test02')"
   ]
  },
  {
   "cell_type": "code",
   "execution_count": 22,
   "id": "937f7298-47a5-45cd-92dc-5fd3fc75bf3d",
   "metadata": {},
   "outputs": [],
   "source": [
    "class test03(test01 , test02):\n",
    "    pass"
   ]
  },
  {
   "cell_type": "code",
   "execution_count": 23,
   "id": "3b974bca-6d9a-44f0-b82f-5f4a229deb5a",
   "metadata": {},
   "outputs": [],
   "source": [
    "obj_t03 = test03()"
   ]
  },
  {
   "cell_type": "code",
   "execution_count": 24,
   "id": "20896bf3-f62d-48ea-940e-6d920f229bed",
   "metadata": {},
   "outputs": [
    {
     "name": "stdout",
     "output_type": "stream",
     "text": [
      "This is test02\n"
     ]
    }
   ],
   "source": [
    "obj_t03.meth2()"
   ]
  },
  {
   "cell_type": "code",
   "execution_count": 25,
   "id": "f28839c8-cdd6-4095-bfe0-d9e1b9afe2c6",
   "metadata": {},
   "outputs": [
    {
     "name": "stdout",
     "output_type": "stream",
     "text": [
      "This is test01\n"
     ]
    }
   ],
   "source": [
    "obj_t03.meth1()"
   ]
  },
  {
   "cell_type": "raw",
   "id": "17ca3e73-3159-4623-9369-240baf7bb465",
   "metadata": {},
   "source": [
    "##END##"
   ]
  }
 ],
 "metadata": {
  "kernelspec": {
   "display_name": "Python 3 (ipykernel)",
   "language": "python",
   "name": "python3"
  },
  "language_info": {
   "codemirror_mode": {
    "name": "ipython",
    "version": 3
   },
   "file_extension": ".py",
   "mimetype": "text/x-python",
   "name": "python",
   "nbconvert_exporter": "python",
   "pygments_lexer": "ipython3",
   "version": "3.10.8"
  }
 },
 "nbformat": 4,
 "nbformat_minor": 5
}

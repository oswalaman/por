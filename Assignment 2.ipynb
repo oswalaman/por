{
 "cells": [
  {
   "cell_type": "raw",
   "id": "59e6ed91-d797-4d7d-9c8c-539b287d4e69",
   "metadata": {},
   "source": [
    "A1) We can comment code in python using hash(#) symbol.\n",
    "eg - #I am learning data science.\n",
    "There are three types of comments : single line,  multi-line  and docstring comments"
   ]
  },
  {
   "cell_type": "raw",
   "id": "ebab6c81-5f06-4266-a87b-466f4e0fa667",
   "metadata": {},
   "source": [
    "A2) Variables in python can be any character/s but not beginning with a special character except underscore(_) which\n",
    "    is used to store a value."
   ]
  },
  {
   "cell_type": "code",
   "execution_count": 1,
   "id": "95ccff01-d4d4-465e-9924-1fb4cdd3914b",
   "metadata": {},
   "outputs": [],
   "source": [
    "#Declaring and assigning value to a variable :\n",
    "a = 25\n",
    "name = \"paree\"\n",
    "l = [2,\"hey\",9.0,True]"
   ]
  },
  {
   "cell_type": "raw",
   "id": "6e4d65e1-5272-461f-88b3-41265bcb7e8e",
   "metadata": {},
   "source": [
    "A3) We can convert one data type into another by typecasting it. eg :"
   ]
  },
  {
   "cell_type": "code",
   "execution_count": 2,
   "id": "23f06d7c-f05b-4727-a82d-395a8243229d",
   "metadata": {},
   "outputs": [
    {
     "data": {
      "text/plain": [
       "'23'"
      ]
     },
     "execution_count": 2,
     "metadata": {},
     "output_type": "execute_result"
    }
   ],
   "source": [
    "a = 23 #integer\n",
    "a = str(int(a))\n",
    "a"
   ]
  },
  {
   "cell_type": "raw",
   "id": "d3429212-8c35-4740-9b4f-1dd9084b27ca",
   "metadata": {},
   "source": [
    "A4) We execute a python script by using shift+enter."
   ]
  },
  {
   "cell_type": "code",
   "execution_count": 4,
   "id": "3af9528d-86fb-45d1-8540-8385b0a8c85a",
   "metadata": {},
   "outputs": [
    {
     "name": "stdout",
     "output_type": "stream",
     "text": [
      "[2, 3]\n"
     ]
    }
   ],
   "source": [
    "## A5)\n",
    "my_list = [1,2,3,4,5]\n",
    "my_list = my_list[1:3:1]\n",
    "print(my_list)"
   ]
  },
  {
   "cell_type": "raw",
   "id": "b9e37085-ba79-4ef9-896a-aa5c608f0199",
   "metadata": {},
   "source": [
    "A6) Complex numbers are the numbers that are expressed in the form of a+ib where, a,b are real numbers and  ‘i’ is an imaginary number called “iota”.eg - 4+6i where '4' is a real number and '6i' is an imaginary number.\n",
    "It is represented in python in the same way except that there is use of letter 'j' instead of 'i'. "
   ]
  },
  {
   "cell_type": "code",
   "execution_count": 5,
   "id": "3ae915d6-b309-4db0-96d7-a4cb09e99d08",
   "metadata": {},
   "outputs": [
    {
     "data": {
      "text/plain": [
       "complex"
      ]
     },
     "execution_count": 5,
     "metadata": {},
     "output_type": "execute_result"
    }
   ],
   "source": [
    "c = 2+3j\n",
    "type(c)"
   ]
  },
  {
   "cell_type": "code",
   "execution_count": 6,
   "id": "72460e20-c1d0-4942-8960-1104996fc0ad",
   "metadata": {},
   "outputs": [],
   "source": [
    "# A7)\n",
    "age = 25"
   ]
  },
  {
   "cell_type": "code",
   "execution_count": 7,
   "id": "a73a1c81-89d3-49c3-a764-dcb68d9d4351",
   "metadata": {},
   "outputs": [
    {
     "data": {
      "text/plain": [
       "float"
      ]
     },
     "execution_count": 7,
     "metadata": {},
     "output_type": "execute_result"
    }
   ],
   "source": [
    "## A8)\n",
    "price = 9.99 #This variable belongs to data type float\n",
    "type(price)"
   ]
  },
  {
   "cell_type": "code",
   "execution_count": 10,
   "id": "3517f0a3-65af-4e85-a2d3-4460b9d20e4f",
   "metadata": {},
   "outputs": [
    {
     "name": "stdout",
     "output_type": "stream",
     "text": [
      "Paree Oswal\n"
     ]
    }
   ],
   "source": [
    "# A9)\n",
    "name = \"Paree Oswal\"\n",
    "print(f\"{name}\")"
   ]
  },
  {
   "cell_type": "code",
   "execution_count": 12,
   "id": "42ba2abe-b2e4-4405-b7a5-12f4a510bf1c",
   "metadata": {},
   "outputs": [
    {
     "data": {
      "text/plain": [
       "' World'"
      ]
     },
     "execution_count": 12,
     "metadata": {},
     "output_type": "execute_result"
    }
   ],
   "source": [
    "# A10)\n",
    "str1 = \"Hello, World!\"\n",
    "new_str = str1[6:12]\n",
    "new_str"
   ]
  },
  {
   "cell_type": "code",
   "execution_count": 16,
   "id": "54113483-c0cc-477f-88b0-d570671df3ae",
   "metadata": {},
   "outputs": [],
   "source": [
    "## A11)\n",
    "is_student = True"
   ]
  },
  {
   "cell_type": "code",
   "execution_count": null,
   "id": "e8a99372-0214-465f-8d05-f3676febe87f",
   "metadata": {},
   "outputs": [],
   "source": []
  }
 ],
 "metadata": {
  "kernelspec": {
   "display_name": "Python 3 (ipykernel)",
   "language": "python",
   "name": "python3"
  },
  "language_info": {
   "codemirror_mode": {
    "name": "ipython",
    "version": 3
   },
   "file_extension": ".py",
   "mimetype": "text/x-python",
   "name": "python",
   "nbconvert_exporter": "python",
   "pygments_lexer": "ipython3",
   "version": "3.10.8"
  }
 },
 "nbformat": 4,
 "nbformat_minor": 5
}

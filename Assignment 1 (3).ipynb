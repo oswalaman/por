{
 "cells": [
  {
   "cell_type": "code",
   "execution_count": null,
   "id": "578bf9b2-0996-4e82-913f-fa5972ef68e5",
   "metadata": {},
   "outputs": [],
   "source": [
    "#QUESTION 1"
   ]
  },
  {
   "cell_type": "code",
   "execution_count": 1,
   "id": "ace414be-608a-4be0-99a8-0fee5f69d2ac",
   "metadata": {},
   "outputs": [],
   "source": [
    "a = \"hello\""
   ]
  },
  {
   "cell_type": "code",
   "execution_count": 2,
   "id": "488ed3bb-da64-4ac8-9191-2bac44ba559d",
   "metadata": {},
   "outputs": [],
   "source": [
    "b = [22, 34 , \"pw\" , True , 22.45 , \"coding\"]"
   ]
  },
  {
   "cell_type": "code",
   "execution_count": 3,
   "id": "4576fd7d-3e47-4d22-a8ab-49d3112a2621",
   "metadata": {},
   "outputs": [],
   "source": [
    "c = 33.99"
   ]
  },
  {
   "cell_type": "code",
   "execution_count": 6,
   "id": "7059ab73-aca9-49bb-99cf-92025ddd2fa7",
   "metadata": {},
   "outputs": [
    {
     "name": "stdout",
     "output_type": "stream",
     "text": [
      "<class 'str'>\n",
      "<class 'list'>\n",
      "<class 'float'>\n"
     ]
    }
   ],
   "source": [
    "l = [a , b , c]\n",
    "print(type(a))\n",
    "print(type(b))\n",
    "print(type(c))"
   ]
  },
  {
   "cell_type": "code",
   "execution_count": 7,
   "id": "f5dcf774-84e4-495a-8478-972e8a3f3f69",
   "metadata": {},
   "outputs": [],
   "source": [
    "#QUESTION 2"
   ]
  },
  {
   "cell_type": "code",
   "execution_count": 8,
   "id": "1c350c33-8e65-417a-93e0-88023c94ea2b",
   "metadata": {},
   "outputs": [],
   "source": [
    "var1 = '  '"
   ]
  },
  {
   "cell_type": "code",
   "execution_count": 9,
   "id": "584582e4-efb7-4084-ab4b-fac1ce13192b",
   "metadata": {},
   "outputs": [
    {
     "data": {
      "text/plain": [
       "str"
      ]
     },
     "execution_count": 9,
     "metadata": {},
     "output_type": "execute_result"
    }
   ],
   "source": [
    "type(var1)"
   ]
  },
  {
   "cell_type": "code",
   "execution_count": 10,
   "id": "3777f690-50ab-4ab3-b1ff-128a1c29af40",
   "metadata": {},
   "outputs": [],
   "source": [
    "var2 = '[ DS , ML , Python]' "
   ]
  },
  {
   "cell_type": "code",
   "execution_count": 11,
   "id": "e7afa0e1-cf22-48c5-b54b-d97a4092e0c1",
   "metadata": {},
   "outputs": [
    {
     "data": {
      "text/plain": [
       "str"
      ]
     },
     "execution_count": 11,
     "metadata": {},
     "output_type": "execute_result"
    }
   ],
   "source": [
    "type(var2)"
   ]
  },
  {
   "cell_type": "code",
   "execution_count": 1,
   "id": "c5de3441-2de3-4c72-8d7e-18866aa82473",
   "metadata": {},
   "outputs": [],
   "source": [
    "var3 = [ 'DS' , 'ML' , 'Python']"
   ]
  },
  {
   "cell_type": "code",
   "execution_count": 2,
   "id": "1086dad9-9fa2-4fba-b2b8-7aa86244d1f3",
   "metadata": {},
   "outputs": [
    {
     "data": {
      "text/plain": [
       "list"
      ]
     },
     "execution_count": 2,
     "metadata": {},
     "output_type": "execute_result"
    }
   ],
   "source": [
    "type(var3)"
   ]
  },
  {
   "cell_type": "code",
   "execution_count": 3,
   "id": "341dfb6b-eaf5-432f-ad8b-cb6ed16dfc2a",
   "metadata": {},
   "outputs": [],
   "source": [
    "var4 = 1"
   ]
  },
  {
   "cell_type": "code",
   "execution_count": 4,
   "id": "ad72f8af-b0ab-4bf6-b237-883ee3e75a4c",
   "metadata": {},
   "outputs": [
    {
     "data": {
      "text/plain": [
       "int"
      ]
     },
     "execution_count": 4,
     "metadata": {},
     "output_type": "execute_result"
    }
   ],
   "source": [
    "type(var4)"
   ]
  },
  {
   "cell_type": "code",
   "execution_count": 5,
   "id": "1a86a4bf-7092-4617-9c3f-e7e074ad7557",
   "metadata": {},
   "outputs": [],
   "source": [
    "#Q3"
   ]
  },
  {
   "cell_type": "code",
   "execution_count": 6,
   "id": "33c14a8d-2148-40db-b0a3-beea89d45f92",
   "metadata": {},
   "outputs": [
    {
     "data": {
      "text/plain": [
       "2.0"
      ]
     },
     "execution_count": 6,
     "metadata": {},
     "output_type": "execute_result"
    }
   ],
   "source": [
    "4/2  # Division operator is used for divison and returns the quotient"
   ]
  },
  {
   "cell_type": "code",
   "execution_count": 7,
   "id": "5da74d0a-2432-4136-8736-637fd017fa81",
   "metadata": {},
   "outputs": [
    {
     "data": {
      "text/plain": [
       "0"
      ]
     },
     "execution_count": 7,
     "metadata": {},
     "output_type": "execute_result"
    }
   ],
   "source": [
    "4%2 # Mod operator returns the remainder of the division"
   ]
  },
  {
   "cell_type": "code",
   "execution_count": 8,
   "id": "9e2d5bef-67c4-4732-b200-042146d178ab",
   "metadata": {},
   "outputs": [
    {
     "data": {
      "text/plain": [
       "6"
      ]
     },
     "execution_count": 8,
     "metadata": {},
     "output_type": "execute_result"
    }
   ],
   "source": [
    "25//4 #floor divsion rounds off the quotient to the nearest whole number"
   ]
  },
  {
   "cell_type": "code",
   "execution_count": 9,
   "id": "d8aed9e9-3dd0-446f-8cee-21831fdb0820",
   "metadata": {},
   "outputs": [
    {
     "data": {
      "text/plain": [
       "36"
      ]
     },
     "execution_count": 9,
     "metadata": {},
     "output_type": "execute_result"
    }
   ],
   "source": [
    "6**2 #power operator multiplies the first argument with itself , number of times the number in second argument."
   ]
  },
  {
   "cell_type": "code",
   "execution_count": 11,
   "id": "5546ea10-a391-4e8b-9edf-2ed53c91d394",
   "metadata": {},
   "outputs": [],
   "source": [
    "#Q4"
   ]
  },
  {
   "cell_type": "code",
   "execution_count": 12,
   "id": "deb1cdbb-66f9-4279-92c9-bae2d16ab0b4",
   "metadata": {},
   "outputs": [],
   "source": [
    "list = [2 , 4 , 6 , 8 , 10 , \"paree\" , '  ' , \"pw\" , True , 25.9]"
   ]
  },
  {
   "cell_type": "code",
   "execution_count": 13,
   "id": "f6ae4d54-0bd3-4a0a-b6b0-64e453d2fcdb",
   "metadata": {},
   "outputs": [
    {
     "name": "stdout",
     "output_type": "stream",
     "text": [
      "2\n",
      "<class 'int'>\n",
      "4\n",
      "<class 'int'>\n",
      "6\n",
      "<class 'int'>\n",
      "8\n",
      "<class 'int'>\n",
      "10\n",
      "<class 'int'>\n",
      "paree\n",
      "<class 'str'>\n",
      "  \n",
      "<class 'str'>\n",
      "pw\n",
      "<class 'str'>\n",
      "True\n",
      "<class 'bool'>\n",
      "25.9\n",
      "<class 'float'>\n"
     ]
    }
   ],
   "source": [
    "for i in list :\n",
    "    print(i)\n",
    "    print(type(i))"
   ]
  },
  {
   "cell_type": "code",
   "execution_count": 14,
   "id": "7b67b332-673b-4272-a3ce-49bad753857b",
   "metadata": {},
   "outputs": [],
   "source": [
    "#Q5"
   ]
  },
  {
   "cell_type": "code",
   "execution_count": 16,
   "id": "93b3fa0f-d24d-4fc5-bf8a-ae938183f6fb",
   "metadata": {},
   "outputs": [
    {
     "name": "stdin",
     "output_type": "stream",
     "text": [
      " 25\n"
     ]
    }
   ],
   "source": [
    "A = int(input())"
   ]
  },
  {
   "cell_type": "code",
   "execution_count": 1,
   "id": "ba2ba9ce-75e6-480c-9445-5194ac477260",
   "metadata": {},
   "outputs": [
    {
     "name": "stdin",
     "output_type": "stream",
     "text": [
      " 44\n",
      " 3\n"
     ]
    }
   ],
   "source": [
    "A = int(input())\n",
    "B = int(input())\n",
    "while A >= 0 | A<0 :\n",
    "    if A%B == 0 :\n",
    "        print(\"the number is divisible completely\")\n",
    "        print(\"the number of times it is divisble is\",B/A)\n",
    "        break"
   ]
  },
  {
   "cell_type": "code",
   "execution_count": 21,
   "id": "0e055da2-f02c-4ab1-bb29-17f9669e4d72",
   "metadata": {},
   "outputs": [],
   "source": [
    "#Q6"
   ]
  },
  {
   "cell_type": "code",
   "execution_count": 2,
   "id": "0195c6e9-be33-4929-a4a5-27b4d4a6e8fb",
   "metadata": {},
   "outputs": [],
   "source": [
    "l = [1, 2, 3, 3, 5, 5, 6, 9, 35, 45, 27, 72, 99, 108, 18, 44, 56, 22, 8, 3, 66, 99, 999, 342, 25]"
   ]
  },
  {
   "cell_type": "code",
   "execution_count": 3,
   "id": "d050f527-b63d-4d09-b811-22daa271ce36",
   "metadata": {},
   "outputs": [
    {
     "name": "stdout",
     "output_type": "stream",
     "text": [
      "the element  1 is not divisible by 3\n",
      "the element  2 is not divisible by 3\n",
      "the element  3 is divisible by 3\n",
      "the element  3 is not divisible by 3\n",
      "the element  3 is divisible by 3\n",
      "the element  3 is not divisible by 3\n",
      "the element  5 is not divisible by 3\n",
      "the element  5 is not divisible by 3\n",
      "the element  6 is divisible by 3\n",
      "the element  6 is not divisible by 3\n",
      "the element  9 is divisible by 3\n",
      "the element  9 is not divisible by 3\n",
      "the element  35 is not divisible by 3\n",
      "the element  45 is divisible by 3\n",
      "the element  45 is not divisible by 3\n",
      "the element  27 is divisible by 3\n",
      "the element  27 is not divisible by 3\n",
      "the element  72 is divisible by 3\n",
      "the element  72 is not divisible by 3\n",
      "the element  99 is divisible by 3\n",
      "the element  99 is not divisible by 3\n",
      "the element  108 is divisible by 3\n",
      "the element  108 is not divisible by 3\n",
      "the element  18 is divisible by 3\n",
      "the element  18 is not divisible by 3\n",
      "the element  44 is not divisible by 3\n",
      "the element  56 is not divisible by 3\n",
      "the element  22 is not divisible by 3\n",
      "the element  8 is not divisible by 3\n",
      "the element  3 is divisible by 3\n",
      "the element  3 is not divisible by 3\n",
      "the element  66 is divisible by 3\n",
      "the element  66 is not divisible by 3\n",
      "the element  99 is divisible by 3\n",
      "the element  99 is not divisible by 3\n",
      "the element  999 is divisible by 3\n",
      "the element  999 is not divisible by 3\n",
      "the element  342 is divisible by 3\n",
      "the element  342 is not divisible by 3\n",
      "the element  25 is not divisible by 3\n"
     ]
    }
   ],
   "source": [
    "for i in l :\n",
    "    if i%3 == 0 :\n",
    "        print(\"the element \" , i , \"is divisible by 3\")\n",
    "    print(\"the element \" , i , \"is not divisible by 3\")"
   ]
  },
  {
   "cell_type": "code",
   "execution_count": 5,
   "id": "7b964f76-1efb-44c1-91c7-3de1e6b8044d",
   "metadata": {},
   "outputs": [],
   "source": [
    "#Q7"
   ]
  },
  {
   "cell_type": "code",
   "execution_count": 6,
   "id": "e5faf683-9bc1-45e3-9f2e-b70161ec2e0e",
   "metadata": {},
   "outputs": [],
   "source": [
    "#Mutable data types are those in which an element stored at an index can be replaced by another element.\n",
    "#For example - list\n",
    "l = [1,2,7,9,True,False,22.22,\"hello\"]"
   ]
  },
  {
   "cell_type": "code",
   "execution_count": 8,
   "id": "ea3b8f22-f176-48a8-b263-07754c2992f0",
   "metadata": {},
   "outputs": [],
   "source": [
    "l[6] = 33.33"
   ]
  },
  {
   "cell_type": "code",
   "execution_count": 9,
   "id": "034f01c3-eb7c-484b-b886-f764332671d0",
   "metadata": {},
   "outputs": [
    {
     "data": {
      "text/plain": [
       "[1, 2, 7, 9, True, False, 33.33, 'hello']"
      ]
     },
     "execution_count": 9,
     "metadata": {},
     "output_type": "execute_result"
    }
   ],
   "source": [
    "l"
   ]
  },
  {
   "cell_type": "code",
   "execution_count": 10,
   "id": "c1395d1e-ab68-4e50-b8b7-a248b4d3ef65",
   "metadata": {},
   "outputs": [],
   "source": [
    "#Immutable data types are those in which an element at an index cannot be replaced by another element.\n",
    "#For example - string\n",
    "a = \"heelo\""
   ]
  },
  {
   "cell_type": "code",
   "execution_count": 11,
   "id": "3a9ade0d-d43c-41d2-b084-b9142f3652d9",
   "metadata": {},
   "outputs": [
    {
     "ename": "TypeError",
     "evalue": "'str' object does not support item assignment",
     "output_type": "error",
     "traceback": [
      "\u001b[0;31m---------------------------------------------------------------------------\u001b[0m",
      "\u001b[0;31mTypeError\u001b[0m                                 Traceback (most recent call last)",
      "Cell \u001b[0;32mIn[11], line 1\u001b[0m\n\u001b[0;32m----> 1\u001b[0m \u001b[43ma\u001b[49m\u001b[43m[\u001b[49m\u001b[38;5;241;43m2\u001b[39;49m\u001b[43m]\u001b[49m \u001b[38;5;241m=\u001b[39m \u001b[38;5;124m\"\u001b[39m\u001b[38;5;124ml\u001b[39m\u001b[38;5;124m\"\u001b[39m\n",
      "\u001b[0;31mTypeError\u001b[0m: 'str' object does not support item assignment"
     ]
    }
   ],
   "source": [
    "a[2] = \"l\""
   ]
  },
  {
   "cell_type": "code",
   "execution_count": null,
   "id": "f9471425-da8b-4f09-b60f-4b2583d35316",
   "metadata": {},
   "outputs": [],
   "source": [
    "#Assignment done"
   ]
  }
 ],
 "metadata": {
  "kernelspec": {
   "display_name": "Python 3 (ipykernel)",
   "language": "python",
   "name": "python3"
  },
  "language_info": {
   "codemirror_mode": {
    "name": "ipython",
    "version": 3
   },
   "file_extension": ".py",
   "mimetype": "text/x-python",
   "name": "python",
   "nbconvert_exporter": "python",
   "pygments_lexer": "ipython3",
   "version": "3.10.8"
  }
 },
 "nbformat": 4,
 "nbformat_minor": 5
}
